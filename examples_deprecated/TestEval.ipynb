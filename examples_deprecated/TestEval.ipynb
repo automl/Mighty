{
 "cells": [
  {
   "cell_type": "markdown",
   "id": "1bf43587",
   "metadata": {},
   "source": [
    "### Data Evaluation Example\n",
    "To see an example of the data that is logged by Mighty we provide this quick exammple.\n",
    "\n",
    "Note: All data needed to get this example to run was done with the following command(s):<BR>\n",
    "`python mighty/run_mighty.py 'algorithm=dqn' 'env=SigmoidBenchmark' 'num_steps=100000' 'seed=1` <BR>\n",
    "for seeds from 1 to 5. The runs for data collection should take less than 10 minutes."
   ]
  },
  {
   "cell_type": "markdown",
   "id": "1006544e",
   "metadata": {},
   "source": [
    "Import all needed functions to parse the data as pandas DataFrame"
   ]
  },
  {
   "cell_type": "code",
   "execution_count": 1,
   "id": "74f5ef14",
   "metadata": {},
   "outputs": [
    {
     "name": "stderr",
     "output_type": "stream",
     "text": [
      "/Users/andrebiedenkapp/opt/anaconda3/envs/mighty/lib/python3.9/site-packages/seaborn/rcmod.py:82: DeprecationWarning: distutils Version classes are deprecated. Use packaging.version instead.\n",
      "  if LooseVersion(mpl.__version__) >= \"3.0\":\n",
      "/Users/andrebiedenkapp/opt/anaconda3/envs/mighty/lib/python3.9/site-packages/setuptools/_distutils/version.py:351: DeprecationWarning: distutils Version classes are deprecated. Use packaging.version instead.\n",
      "  other = LooseVersion(other)\n"
     ]
    }
   ],
   "source": [
    "from mighty.utils.logger import load_logs  # We provide a loading function that transforms the data into a dict\n",
    "import pandas as pd"
   ]
  },
  {
   "cell_type": "code",
   "execution_count": 2,
   "id": "f9bc235a",
   "metadata": {
    "scrolled": false
   },
   "outputs": [
    {
     "data": {
      "text/html": [
       "<div>\n",
       "<style scoped>\n",
       "    .dataframe tbody tr th:only-of-type {\n",
       "        vertical-align: middle;\n",
       "    }\n",
       "\n",
       "    .dataframe tbody tr th {\n",
       "        vertical-align: top;\n",
       "    }\n",
       "\n",
       "    .dataframe thead th {\n",
       "        text-align: right;\n",
       "    }\n",
       "</style>\n",
       "<table border=\"1\" class=\"dataframe\">\n",
       "  <thead>\n",
       "    <tr style=\"text-align: right;\">\n",
       "      <th></th>\n",
       "      <th>reward</th>\n",
       "      <th>action</th>\n",
       "      <th>next_state</th>\n",
       "      <th>state</th>\n",
       "      <th>done</th>\n",
       "      <th>step</th>\n",
       "      <th>episode</th>\n",
       "      <th>instance</th>\n",
       "    </tr>\n",
       "  </thead>\n",
       "  <tbody>\n",
       "    <tr>\n",
       "      <th>0</th>\n",
       "      <td>0.695997</td>\n",
       "      <td>18</td>\n",
       "      <td>[8.0, 1.813989485511224, -2.561208229221, 4.66...</td>\n",
       "      <td>[9.0, 1.813989485511224, -2.561208229221, 4.66...</td>\n",
       "      <td>False</td>\n",
       "      <td>1</td>\n",
       "      <td>99</td>\n",
       "      <td>[2.521785920514681, 1.5093192958733685, 11.181...</td>\n",
       "    </tr>\n",
       "    <tr>\n",
       "      <th>1</th>\n",
       "      <td>0.584772</td>\n",
       "      <td>18</td>\n",
       "      <td>[7.0, 1.813989485511224, -2.561208229221, 4.66...</td>\n",
       "      <td>[8.0, 1.813989485511224, -2.561208229221, 4.66...</td>\n",
       "      <td>False</td>\n",
       "      <td>2</td>\n",
       "      <td>99</td>\n",
       "      <td>[2.521785920514681, 1.5093192958733685, 11.181...</td>\n",
       "    </tr>\n",
       "    <tr>\n",
       "      <th>2</th>\n",
       "      <td>0.277285</td>\n",
       "      <td>29</td>\n",
       "      <td>[6.0, 1.813989485511224, -2.561208229221, 4.66...</td>\n",
       "      <td>[7.0, 1.813989485511224, -2.561208229221, 4.66...</td>\n",
       "      <td>False</td>\n",
       "      <td>3</td>\n",
       "      <td>99</td>\n",
       "      <td>[2.521785920514681, 1.5093192958733685, 11.181...</td>\n",
       "    </tr>\n",
       "    <tr>\n",
       "      <th>3</th>\n",
       "      <td>0.237639</td>\n",
       "      <td>29</td>\n",
       "      <td>[5.0, 1.813989485511224, -2.561208229221, 4.66...</td>\n",
       "      <td>[6.0, 1.813989485511224, -2.561208229221, 4.66...</td>\n",
       "      <td>False</td>\n",
       "      <td>4</td>\n",
       "      <td>99</td>\n",
       "      <td>[2.521785920514681, 1.5093192958733685, 11.181...</td>\n",
       "    </tr>\n",
       "    <tr>\n",
       "      <th>4</th>\n",
       "      <td>0.200324</td>\n",
       "      <td>29</td>\n",
       "      <td>[4.0, 1.813989485511224, -2.561208229221, 4.66...</td>\n",
       "      <td>[5.0, 1.813989485511224, -2.561208229221, 4.66...</td>\n",
       "      <td>False</td>\n",
       "      <td>5</td>\n",
       "      <td>99</td>\n",
       "      <td>[2.521785920514681, 1.5093192958733685, 11.181...</td>\n",
       "    </tr>\n",
       "    <tr>\n",
       "      <th>...</th>\n",
       "      <td>...</td>\n",
       "      <td>...</td>\n",
       "      <td>...</td>\n",
       "      <td>...</td>\n",
       "      <td>...</td>\n",
       "      <td>...</td>\n",
       "      <td>...</td>\n",
       "      <td>...</td>\n",
       "    </tr>\n",
       "    <tr>\n",
       "      <th>895</th>\n",
       "      <td>0.845056</td>\n",
       "      <td>5</td>\n",
       "      <td>[4.0, 1.813989485511224, -2.561208229221, 4.66...</td>\n",
       "      <td>[5.0, 1.813989485511224, -2.561208229221, 4.66...</td>\n",
       "      <td>False</td>\n",
       "      <td>5</td>\n",
       "      <td>9999</td>\n",
       "      <td>[2.521785920514681, 1.5093192958733685, 11.181...</td>\n",
       "    </tr>\n",
       "    <tr>\n",
       "      <th>896</th>\n",
       "      <td>0.497926</td>\n",
       "      <td>16</td>\n",
       "      <td>[3.0, 1.813989485511224, -2.561208229221, 4.66...</td>\n",
       "      <td>[4.0, 1.813989485511224, -2.561208229221, 4.66...</td>\n",
       "      <td>False</td>\n",
       "      <td>6</td>\n",
       "      <td>9999</td>\n",
       "      <td>[2.521785920514681, 1.5093192958733685, 11.181...</td>\n",
       "    </tr>\n",
       "    <tr>\n",
       "      <th>897</th>\n",
       "      <td>0.822848</td>\n",
       "      <td>4</td>\n",
       "      <td>[2.0, 1.813989485511224, -2.561208229221, 4.66...</td>\n",
       "      <td>[3.0, 1.813989485511224, -2.561208229221, 4.66...</td>\n",
       "      <td>False</td>\n",
       "      <td>7</td>\n",
       "      <td>9999</td>\n",
       "      <td>[2.521785920514681, 1.5093192958733685, 11.181...</td>\n",
       "    </tr>\n",
       "    <tr>\n",
       "      <th>898</th>\n",
       "      <td>0.136405</td>\n",
       "      <td>36</td>\n",
       "      <td>[1.0, 1.813989485511224, -2.561208229221, 4.66...</td>\n",
       "      <td>[2.0, 1.813989485511224, -2.561208229221, 4.66...</td>\n",
       "      <td>False</td>\n",
       "      <td>8</td>\n",
       "      <td>9999</td>\n",
       "      <td>[2.521785920514681, 1.5093192958733685, 11.181...</td>\n",
       "    </tr>\n",
       "    <tr>\n",
       "      <th>899</th>\n",
       "      <td>0.721593</td>\n",
       "      <td>4</td>\n",
       "      <td>[0.0, 1.813989485511224, -2.561208229221, 4.66...</td>\n",
       "      <td>[1.0, 1.813989485511224, -2.561208229221, 4.66...</td>\n",
       "      <td>True</td>\n",
       "      <td>9</td>\n",
       "      <td>9999</td>\n",
       "      <td>[2.521785920514681, 1.5093192958733685, 11.181...</td>\n",
       "    </tr>\n",
       "  </tbody>\n",
       "</table>\n",
       "<p>900 rows × 8 columns</p>\n",
       "</div>"
      ],
      "text/plain": [
       "       reward  action                                         next_state  \\\n",
       "0    0.695997      18  [8.0, 1.813989485511224, -2.561208229221, 4.66...   \n",
       "1    0.584772      18  [7.0, 1.813989485511224, -2.561208229221, 4.66...   \n",
       "2    0.277285      29  [6.0, 1.813989485511224, -2.561208229221, 4.66...   \n",
       "3    0.237639      29  [5.0, 1.813989485511224, -2.561208229221, 4.66...   \n",
       "4    0.200324      29  [4.0, 1.813989485511224, -2.561208229221, 4.66...   \n",
       "..        ...     ...                                                ...   \n",
       "895  0.845056       5  [4.0, 1.813989485511224, -2.561208229221, 4.66...   \n",
       "896  0.497926      16  [3.0, 1.813989485511224, -2.561208229221, 4.66...   \n",
       "897  0.822848       4  [2.0, 1.813989485511224, -2.561208229221, 4.66...   \n",
       "898  0.136405      36  [1.0, 1.813989485511224, -2.561208229221, 4.66...   \n",
       "899  0.721593       4  [0.0, 1.813989485511224, -2.561208229221, 4.66...   \n",
       "\n",
       "                                                 state   done  step  episode  \\\n",
       "0    [9.0, 1.813989485511224, -2.561208229221, 4.66...  False     1       99   \n",
       "1    [8.0, 1.813989485511224, -2.561208229221, 4.66...  False     2       99   \n",
       "2    [7.0, 1.813989485511224, -2.561208229221, 4.66...  False     3       99   \n",
       "3    [6.0, 1.813989485511224, -2.561208229221, 4.66...  False     4       99   \n",
       "4    [5.0, 1.813989485511224, -2.561208229221, 4.66...  False     5       99   \n",
       "..                                                 ...    ...   ...      ...   \n",
       "895  [5.0, 1.813989485511224, -2.561208229221, 4.66...  False     5     9999   \n",
       "896  [4.0, 1.813989485511224, -2.561208229221, 4.66...  False     6     9999   \n",
       "897  [3.0, 1.813989485511224, -2.561208229221, 4.66...  False     7     9999   \n",
       "898  [2.0, 1.813989485511224, -2.561208229221, 4.66...  False     8     9999   \n",
       "899  [1.0, 1.813989485511224, -2.561208229221, 4.66...   True     9     9999   \n",
       "\n",
       "                                              instance  \n",
       "0    [2.521785920514681, 1.5093192958733685, 11.181...  \n",
       "1    [2.521785920514681, 1.5093192958733685, 11.181...  \n",
       "2    [2.521785920514681, 1.5093192958733685, 11.181...  \n",
       "3    [2.521785920514681, 1.5093192958733685, 11.181...  \n",
       "4    [2.521785920514681, 1.5093192958733685, 11.181...  \n",
       "..                                                 ...  \n",
       "895  [2.521785920514681, 1.5093192958733685, 11.181...  \n",
       "896  [2.521785920514681, 1.5093192958733685, 11.181...  \n",
       "897  [2.521785920514681, 1.5093192958733685, 11.181...  \n",
       "898  [2.521785920514681, 1.5093192958733685, 11.181...  \n",
       "899  [2.521785920514681, 1.5093192958733685, 11.181...  \n",
       "\n",
       "[900 rows x 8 columns]"
      ]
     },
     "execution_count": 2,
     "metadata": {},
     "output_type": "execute_result"
    }
   ],
   "source": [
    "exp_dir=\"/tmp/mighty_experiment_1\"         # Set this to the directory from which you want to load the data\n",
    "logs = load_logs(f\"{exp_dir}/eval.jsonl\")  # Either load eval.jsonl (for eval results) or (train.jsonl) for train results\n",
    "\n",
    "df = pd.DataFrame.from_dict(logs)          # Turn the data into a DataFrame\n",
    "df"
   ]
  },
  {
   "cell_type": "markdown",
   "id": "d491211a",
   "metadata": {},
   "source": [
    "The log contains a per step record of what has happened, including individual state transitions and information about which context produced this data.\n",
    "\n",
    "Thus, to get the episodic reward we need to first group it by episode."
   ]
  },
  {
   "cell_type": "code",
   "execution_count": 3,
   "id": "16c27580",
   "metadata": {},
   "outputs": [
    {
     "data": {
      "text/plain": [
       "episode\n",
       "99      2.322707\n",
       "199     6.593762\n",
       "299     3.257365\n",
       "399     4.903068\n",
       "499     6.045274\n",
       "          ...   \n",
       "9599    8.283994\n",
       "9699    6.709320\n",
       "9799    7.804813\n",
       "9899    8.191837\n",
       "9999    5.875502\n",
       "Name: reward, Length: 100, dtype: float64"
      ]
     },
     "execution_count": 3,
     "metadata": {},
     "output_type": "execute_result"
    }
   ],
   "source": [
    "df.groupby('episode')['reward'].sum()"
   ]
  },
  {
   "cell_type": "markdown",
   "id": "332bf1f7",
   "metadata": {},
   "source": [
    "### Plotting"
   ]
  },
  {
   "cell_type": "code",
   "execution_count": 4,
   "id": "5bf4ed63",
   "metadata": {},
   "outputs": [
    {
     "name": "stderr",
     "output_type": "stream",
     "text": [
      "/Users/andrebiedenkapp/opt/anaconda3/envs/mighty/lib/python3.9/site-packages/seaborn/rcmod.py:400: DeprecationWarning: distutils Version classes are deprecated. Use packaging.version instead.\n",
      "  if LooseVersion(mpl.__version__) >= \"3.0\":\n",
      "/Users/andrebiedenkapp/opt/anaconda3/envs/mighty/lib/python3.9/site-packages/setuptools/_distutils/version.py:351: DeprecationWarning: distutils Version classes are deprecated. Use packaging.version instead.\n",
      "  other = LooseVersion(other)\n"
     ]
    }
   ],
   "source": [
    "import seaborn as sb\n",
    "from matplotlib import pyplot as plt\n",
    "\n",
    "sb.set_context('poster')\n",
    "sb.set_style('darkgrid')"
   ]
  },
  {
   "cell_type": "code",
   "execution_count": 5,
   "id": "972b6a1c",
   "metadata": {},
   "outputs": [
    {
     "data": {
      "text/plain": [
       "Text(0, 0.5, 'Reward')"
      ]
     },
     "execution_count": 5,
     "metadata": {},
     "output_type": "execute_result"
    },
    {
     "data": {
      "image/png": "[encoded data removed]",
      "text/plain": [
       "<Figure size 432x288 with 1 Axes>"
      ]
     },
     "metadata": {
      "needs_background": "light"
     },
     "output_type": "display_data"
    }
   ],
   "source": [
    "sum_group = df.groupby('episode')['reward'].sum()\n",
    "x_values = sum_group.keys()\n",
    "y_values = sum_group.values\n",
    "\n",
    "plt.step(x_values, y_values, where='post')\n",
    "plt.xlabel('#Train Episodes')\n",
    "plt.ylabel('Reward')"
   ]
  },
  {
   "cell_type": "markdown",
   "id": "079491f0",
   "metadata": {},
   "source": [
    "<BR><BR><BR><BR><BR><BR><BR>"
   ]
  },
  {
   "cell_type": "markdown",
   "id": "0c22e18b",
   "metadata": {},
   "source": [
    "### Data evaluation with multiple runs"
   ]
  },
  {
   "cell_type": "code",
   "execution_count": 6,
   "id": "a3d75ebc",
   "metadata": {},
   "outputs": [],
   "source": [
    "import numpy as np"
   ]
  },
  {
   "cell_type": "code",
   "execution_count": 7,
   "id": "ab95cf93",
   "metadata": {},
   "outputs": [
    {
     "name": "stdout",
     "output_type": "stream",
     "text": [
      "Loading data for seed 1\n",
      "Loading data for seed 2\n",
      "Loading data for seed 3\n",
      "Loading data for seed 4\n",
      "Loading data for seed 5\n"
     ]
    }
   ],
   "source": [
    "seeds = list(range(1, 6))\n",
    "steps = []\n",
    "rewards = []\n",
    "\n",
    "for seed in seeds:\n",
    "    print(f'Loading data for seed {seed}')\n",
    "    exp_dir=f\"/tmp/mighty_experiment_{seed}\"\n",
    "    logs = load_logs(f\"{exp_dir}/eval.jsonl\")  # Either load eval.jsonl (for eval results) or (train.jsonl) for train results\n",
    "\n",
    "    df = pd.DataFrame.from_dict(logs)          # Turn the data into a DataFrame\n",
    "    sum_group = df.groupby('episode')['reward'].sum()\n",
    "    x_values = sum_group.keys()\n",
    "    y_values = sum_group.values\n",
    "    steps.append(x_values)\n",
    "    rewards.append(y_values)"
   ]
  },
  {
   "cell_type": "code",
   "execution_count": 8,
   "id": "3cc9f2dd",
   "metadata": {},
   "outputs": [
    {
     "data": {
      "text/plain": [
       "Text(0, 0.5, 'Reward')"
      ]
     },
     "execution_count": 8,
     "metadata": {},
     "output_type": "execute_result"
    },
    {
     "data": {
      "image/png": "[encoded data removed]",
      "text/plain": [
       "<Figure size 432x288 with 1 Axes>"
      ]
     },
     "metadata": {
      "needs_background": "light"
     },
     "output_type": "display_data"
    }
   ],
   "source": [
    "steps = np.array(steps)\n",
    "rewards = np.array(rewards)\n",
    "\n",
    "steps_r = steps.mean(axis=0)\n",
    "mean_r = rewards.mean(axis=0)\n",
    "\n",
    "plt.step(steps_r, mean_r, where='post')\n",
    "plt.fill_between(steps_r, mean_r+rewards.std(), mean_r-rewards.std(), step='post', alpha=.2)\n",
    "plt.xlabel('#Train Episodes')\n",
    "plt.ylabel('Reward')"
   ]
  }
 ],
 "metadata": {
  "kernelspec": {
   "display_name": "Python 3 (ipykernel)",
   "language": "python",
   "name": "python3"
  },
  "language_info": {
   "codemirror_mode": {
    "name": "ipython",
    "version": 3
   },
   "file_extension": ".py",
   "mimetype": "text/x-python",
   "name": "python",
   "nbconvert_exporter": "python",
   "pygments_lexer": "ipython3",
   "version": "3.9.12"
  }
 },
 "nbformat": 4,
 "nbformat_minor": 5
}
